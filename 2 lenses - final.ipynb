{
 "cells": [
  {
   "cell_type": "code",
   "execution_count": 53,
   "id": "d33c472f",
   "metadata": {},
   "outputs": [],
   "source": [
    "#Defining all the needed values\n",
    "\n",
    "#Those will be explicidly computed\n",
    "z = var('z')\n",
    "\n",
    "x,y = var('x,y',domain='real')\n",
    "mu = var('mu',domain='complex')\n",
    "\n",
    "#Those will have an imput as a basis\n",
    "avg_m = 1\n",
    "delta_m = 0\n",
    "z1 = 7/10"
   ]
  },
  {
   "cell_type": "code",
   "execution_count": 54,
   "id": "e3095332",
   "metadata": {},
   "outputs": [],
   "source": [
    "#Sets of equations as seen in the theory\n",
    "\n",
    "#Zetas\n",
    "\n",
    "zeta = x + I*y\n",
    "zeta_bar = x - I*y\n",
    "\n",
    "#I here denotes a square root of -1, bar stands for conjugates"
   ]
  },
  {
   "cell_type": "code",
   "execution_count": 55,
   "id": "993efd0e",
   "metadata": {},
   "outputs": [],
   "source": [
    "#Looking for expression n.1 which will be used to denote polynomial n.1\n",
    "\n",
    "z_bar(z) = zeta_bar - (avg_m + delta_m)/(z1 - z) - (avg_m - delta_m)/(-z1-z)\n",
    "L(z) = zeta - z - (avg_m + delta_m)/(z1 - z_bar(z)) - (avg_m - delta_m)/(-z1 - z_bar(z))"
   ]
  },
  {
   "cell_type": "code",
   "execution_count": 56,
   "id": "6183861c",
   "metadata": {},
   "outputs": [],
   "source": [
    "exp1(z) = L(z).numerator(normalize=true)"
   ]
  },
  {
   "cell_type": "code",
   "execution_count": 57,
   "id": "e52e52e1",
   "metadata": {},
   "outputs": [],
   "source": [
    "#Looking for expression n.2 which will be used to denote polynomial n.1\n",
    "\n",
    "#derivative of z\n",
    "derivative_z(z) = (delta_m + avg_m)/(z1 - z_bar(z))^2 + (avg_m - delta_m)/(z1+z_bar(z))^2\n",
    "\n",
    "#and its conjugate\n",
    "derivative_z_bar(z) = (delta_m + avg_m)/(z1 - z)^2 + (avg_m - delta_m)/(z1+z)^2\n",
    "\n",
    "#magnification polynomial\n",
    "magnification(z) = mu*(1-derivative_z(z)*derivative_z_bar(z))-1"
   ]
  },
  {
   "cell_type": "code",
   "execution_count": 58,
   "id": "23ee3a88",
   "metadata": {},
   "outputs": [],
   "source": [
    "exp2(z) = magnification(z).numerator(normalize=true)"
   ]
  },
  {
   "cell_type": "code",
   "execution_count": 59,
   "id": "19d9f98b",
   "metadata": {},
   "outputs": [],
   "source": [
    "def resultant(xs,ys):\n",
    "    \n",
    "    temp1 = exp1.subs({x:xs,y:ys})\n",
    "    temp2 = exp2.subs({x:xs,y:ys})\n",
    "    \n",
    "    ZZI.<I> = QQ[i]\n",
    "    R.<mu> = ZZI[]\n",
    "    S.<z> = R[]\n",
    "\n",
    "    poly1 = temp1.polynomial(None,ring=S)\n",
    "    poly2 = temp2.polynomial(None,ring=S)\n",
    "\n",
    "    poly3 = poly1.resultant(poly2)\n",
    "    \n",
    "    return poly3"
   ]
  },
  {
   "cell_type": "code",
   "execution_count": 60,
   "id": "9d5abb01",
   "metadata": {},
   "outputs": [],
   "source": [
    "def mag(xs,ys):\n",
    "    \n",
    "    test = resultant(xs,ys)\n",
    "    temp(mu) = test\n",
    "    \n",
    "    ff = fast_callable(temp,vars=[mu])\n",
    "    roots = solve([ff(mu)==0],mu,to_poly_solve=\"true\")\n",
    "    mag = sum([abs(roots[t].rhs().n()) for t in range(len(roots))])\n",
    "    \n",
    "    return log(mag)"
   ]
  },
  {
   "cell_type": "code",
   "execution_count": 61,
   "id": "cc092350",
   "metadata": {},
   "outputs": [
    {
     "data": {
      "text/plain": [
       "0.415720471818891"
      ]
     },
     "execution_count": 61,
     "metadata": {},
     "output_type": "execute_result"
    }
   ],
   "source": [
    "mag(1,1)"
   ]
  },
  {
   "cell_type": "code",
   "execution_count": 62,
   "id": "275765cb",
   "metadata": {},
   "outputs": [],
   "source": [
    "x_list = []\n",
    "\n",
    "for u in range(21):\n",
    "    x_list.append(u/20)\n",
    "    \n",
    "for u in range(1,21):\n",
    "    x_list.append(-u/20)\n",
    "    \n",
    "x_list.sort()\n",
    "\n",
    "y_list = x_list"
   ]
  },
  {
   "cell_type": "code",
   "execution_count": 63,
   "id": "8ef14d73",
   "metadata": {},
   "outputs": [
    {
     "data": {
      "text/plain": [
       "41"
      ]
     },
     "execution_count": 63,
     "metadata": {},
     "output_type": "execute_result"
    }
   ],
   "source": [
    "len(x_list)"
   ]
  },
  {
   "cell_type": "code",
   "execution_count": 64,
   "id": "9f192bcb",
   "metadata": {},
   "outputs": [],
   "source": [
    "import numpy as np\n",
    "\n",
    "A = np.zeros([41,41])"
   ]
  },
  {
   "cell_type": "code",
   "execution_count": 65,
   "id": "a8e38aaf",
   "metadata": {},
   "outputs": [],
   "source": [
    "for u in range(41):\n",
    "    for v in range(41):\n",
    "        A[u,v] = mag(x_list[u],y_list[v])"
   ]
  },
  {
   "cell_type": "code",
   "execution_count": 66,
   "id": "50781cf7",
   "metadata": {},
   "outputs": [
    {
     "data": {
      "text/plain": [
       "<matplotlib.image.AxesImage object at 0x7f6e81c8dba0>"
      ]
     },
     "execution_count": 66,
     "metadata": {},
     "output_type": "execute_result"
    },
    {
     "data": {
      "image/png": "[encoded data removed]",
      "text/plain": [
       "<Figure size 288x288 with 1 Axes>"
      ]
     },
     "metadata": {
      "needs_background": "light"
     },
     "output_type": "display_data"
    }
   ],
   "source": [
    "import matplotlib.pyplot as plt\n",
    "\n",
    "plt.matshow(A)"
   ]
  },
  {
   "cell_type": "code",
   "execution_count": 67,
   "id": "583fed6d",
   "metadata": {},
   "outputs": [
    {
     "data": {
      "text/plain": [
       "<matplotlib.image.AxesImage object at 0x7f6e81ae62c0>"
      ]
     },
     "execution_count": 67,
     "metadata": {},
     "output_type": "execute_result"
    },
    {
     "data": {
      "image/png": "[encoded data removed]",
      "text/plain": [
       "<Figure size 288x288 with 1 Axes>"
      ]
     },
     "metadata": {
      "needs_background": "light"
     },
     "output_type": "display_data"
    }
   ],
   "source": [
    "from scipy.ndimage import gaussian_filter\n",
    "\n",
    "smooth_operator = gaussian_filter(A, sigma=0.75)\n",
    "\n",
    "plt.matshow(smooth_operator)"
   ]
  }
 ],
 "metadata": {
  "kernelspec": {
   "display_name": "SageMath 9.7",
   "language": "sage",
   "name": "sagemath"
  },
  "language_info": {
   "codemirror_mode": {
    "name": "ipython",
    "version": 3
   },
   "file_extension": ".py",
   "mimetype": "text/x-python",
   "name": "python",
   "nbconvert_exporter": "python",
   "pygments_lexer": "ipython3",
   "version": "3.10.5"
  }
 },
 "nbformat": 4,
 "nbformat_minor": 5
}
