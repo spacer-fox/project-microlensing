{
 "cells": [
  {
   "cell_type": "code",
   "execution_count": 7,
   "id": "ded9c4a9",
   "metadata": {},
   "outputs": [],
   "source": [
    "#Parameters\n",
    "\n",
    "e1 = 1/3\n",
    "e2 = 1/3\n",
    "\n",
    "l1 = 1/4\n",
    "l2 = 1\n",
    "\n",
    "fi = pi/2"
   ]
  },
  {
   "cell_type": "code",
   "execution_count": 9,
   "id": "1db843fb",
   "metadata": {},
   "outputs": [],
   "source": [
    "z = var('z')\n",
    "x,y = var('x,y',domain='complex')\n",
    "xs,ys = var('x,y',domain='real')\n",
    "mu = var('mu',domain='complex')"
   ]
  },
  {
   "cell_type": "code",
   "execution_count": 10,
   "id": "ab98bc85",
   "metadata": {},
   "outputs": [],
   "source": [
    "#Sets of equations as seen in the theory\n",
    "\n",
    "#Zetas\n",
    "\n",
    "zeta = x + I*y\n",
    "zeta_bar = x - I*y\n",
    "\n",
    "#I here denotes a square root of -1, bar stands for conjugates"
   ]
  },
  {
   "cell_type": "code",
   "execution_count": 11,
   "id": "9c0fc189",
   "metadata": {},
   "outputs": [],
   "source": [
    "z_bar(z) = zeta_bar + e1/(z-l1*exp(I*fi)) + e2/(z+l1*exp(I*fi)) + (1-e1-e2)/(z-l2)\n",
    "L(z) = zeta -z + e1/(z_bar(z)-l1*exp(-I*fi)) + e2/(z_bar(z)+l1*exp(-I*fi)) + (1-e1-e2)/(z_bar(z)-l2)\n",
    "\n",
    "exp1 = L(z).numerator(normalize=true)"
   ]
  },
  {
   "cell_type": "code",
   "execution_count": 12,
   "id": "8d2e63e1",
   "metadata": {},
   "outputs": [],
   "source": [
    "derivative_z(z) = e1/(z_bar(z)-l1*exp(-I*fi))^2 + e2/(z_bar(z)+l1*exp(-I*fi))^2 + (1-e1-e2)/(z_bar(z)-l2)^2\n",
    "derivative_z_bar(z) = e1/(z-l1*exp(I*fi))^2 + e2/(z+l1*exp(I*fi))^2 + (1-e1-e2)/(z-l2)^2\n",
    "\n",
    "magnification(z) = mu*(1-derivative_z(z)*derivative_z_bar(z))-1\n",
    "\n",
    "exp2 = magnification(z).numerator(normalize=true)"
   ]
  },
  {
   "cell_type": "code",
   "execution_count": 13,
   "id": "746bf188",
   "metadata": {},
   "outputs": [],
   "source": [
    "def mag(xs,ys):\n",
    "    \n",
    "    test = resultant(xs,ys)\n",
    "    temp(mu) = test\n",
    "    \n",
    "    ff = fast_callable(temp,vars=[mu])\n",
    "    roots = solve([ff(mu)==0],mu,to_poly_solve=\"true\")\n",
    "    mag = sum([abs(roots[t].rhs().n()) for t in range(len(roots))])\n",
    "    \n",
    "    return log(mag)"
   ]
  },
  {
   "cell_type": "code",
   "execution_count": 14,
   "id": "763f263b",
   "metadata": {},
   "outputs": [],
   "source": [
    "def resultant(xs,ys):\n",
    "    \n",
    "    temp1 = exp1.subs({x:xs,y:ys})\n",
    "    temp2 = exp2.subs({x:xs,y:ys})\n",
    "    \n",
    "    ZZI.<I> = QQ[i]\n",
    "    R.<mu> = ZZI[]\n",
    "    S.<z> = R[]\n",
    "\n",
    "    poly1 = temp1.polynomial(None,ring=S)\n",
    "    poly2 = temp2.polynomial(None,ring=S)\n",
    "\n",
    "    poly3 = poly1.resultant(poly2)\n",
    "    \n",
    "    return poly3\n",
    "    "
   ]
  },
  {
   "cell_type": "code",
   "execution_count": 15,
   "id": "5dcb0d55",
   "metadata": {},
   "outputs": [
    {
     "data": {
      "text/plain": [
       "1.77500016693722"
      ]
     },
     "execution_count": 15,
     "metadata": {},
     "output_type": "execute_result"
    }
   ],
   "source": [
    "mag(33/100,13/100)"
   ]
  },
  {
   "cell_type": "code",
   "execution_count": 21,
   "id": "e220f251",
   "metadata": {},
   "outputs": [],
   "source": [
    "x_list = []\n",
    "y_list = []\n",
    "\n",
    "for u in range(21):\n",
    "    x_list.append(u/20)\n",
    "    \n",
    "for u in range(1,21):\n",
    "    x_list.append(-u/20)"
   ]
  },
  {
   "cell_type": "code",
   "execution_count": 22,
   "id": "776afaa0",
   "metadata": {},
   "outputs": [
    {
     "data": {
      "text/plain": [
       "41"
      ]
     },
     "execution_count": 22,
     "metadata": {},
     "output_type": "execute_result"
    }
   ],
   "source": [
    "x_list.sort()\n",
    "\n",
    "y_list = x_list\n",
    "\n",
    "len(y_list)"
   ]
  },
  {
   "cell_type": "code",
   "execution_count": 28,
   "id": "9b376020",
   "metadata": {},
   "outputs": [],
   "source": [
    "import numpy as np\n",
    "\n",
    "A = np.zeros([41,41])"
   ]
  },
  {
   "cell_type": "code",
   "execution_count": 29,
   "id": "61102d77",
   "metadata": {},
   "outputs": [],
   "source": [
    "for u in range(41):\n",
    "    for v in range(41):\n",
    "        A[u,v] = mag(x_list[u],y_list[v])"
   ]
  },
  {
   "cell_type": "code",
   "execution_count": 30,
   "id": "acfce920",
   "metadata": {},
   "outputs": [
    {
     "data": {
      "text/plain": [
       "<matplotlib.image.AxesImage object at 0x7fd4882139d0>"
      ]
     },
     "execution_count": 30,
     "metadata": {},
     "output_type": "execute_result"
    },
    {
     "data": {
      "image/png": "[encoded data removed]",
      "text/plain": [
       "<Figure size 288x288 with 1 Axes>"
      ]
     },
     "metadata": {
      "needs_background": "light"
     },
     "output_type": "display_data"
    }
   ],
   "source": [
    "import matplotlib.pyplot as plt\n",
    "\n",
    "plt.matshow(A)"
   ]
  },
  {
   "cell_type": "code",
   "execution_count": 33,
   "id": "0d9a01ca",
   "metadata": {},
   "outputs": [
    {
     "data": {
      "text/plain": [
       "<matplotlib.image.AxesImage object at 0x7fd4870ca500>"
      ]
     },
     "execution_count": 33,
     "metadata": {},
     "output_type": "execute_result"
    },
    {
     "data": {
      "image/png": "[encoded data removed]",
      "text/plain": [
       "<Figure size 288x288 with 1 Axes>"
      ]
     },
     "metadata": {
      "needs_background": "light"
     },
     "output_type": "display_data"
    }
   ],
   "source": [
    "from scipy.ndimage import gaussian_filter\n",
    "\n",
    "smooth_operator = gaussian_filter(A, sigma=0.7)\n",
    "\n",
    "plt.matshow(smooth_operator)"
   ]
  }
 ],
 "metadata": {
  "kernelspec": {
   "display_name": "SageMath 9.7",
   "language": "sage",
   "name": "sagemath"
  },
  "language_info": {
   "codemirror_mode": {
    "name": "ipython",
    "version": 3
   },
   "file_extension": ".py",
   "mimetype": "text/x-python",
   "name": "python",
   "nbconvert_exporter": "python",
   "pygments_lexer": "ipython3",
   "version": "3.10.5"
  }
 },
 "nbformat": 4,
 "nbformat_minor": 5
}
